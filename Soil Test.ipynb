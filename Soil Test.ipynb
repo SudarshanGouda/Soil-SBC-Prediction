{
 "cells": [
  {
   "cell_type": "markdown",
   "id": "9d31fcaa",
   "metadata": {},
   "source": [
    "# Soil Test Regression Task"
   ]
  },
  {
   "cell_type": "markdown",
   "id": "163d93c6",
   "metadata": {},
   "source": [
    "## Importing the Libraries"
   ]
  },
  {
   "cell_type": "code",
   "execution_count": 1,
   "id": "50d17f8a",
   "metadata": {},
   "outputs": [],
   "source": [
    "import pandas as pd\n",
    "import numpy as np\n",
    "import matplotlib.pyplot as plt\n",
    "import seaborn as sns\n",
    "%matplotlib inline"
   ]
  },
  {
   "cell_type": "code",
   "execution_count": 2,
   "id": "ce450679",
   "metadata": {},
   "outputs": [],
   "source": [
    "df= pd.read_excel('soil excel sheet - Copy.xlsx')"
   ]
  },
  {
   "cell_type": "code",
   "execution_count": 3,
   "id": "2e8259d2",
   "metadata": {},
   "outputs": [
    {
     "data": {
      "text/html": [
       "<div>\n",
       "<style scoped>\n",
       "    .dataframe tbody tr th:only-of-type {\n",
       "        vertical-align: middle;\n",
       "    }\n",
       "\n",
       "    .dataframe tbody tr th {\n",
       "        vertical-align: top;\n",
       "    }\n",
       "\n",
       "    .dataframe thead th {\n",
       "        text-align: right;\n",
       "    }\n",
       "</style>\n",
       "<table border=\"1\" class=\"dataframe\">\n",
       "  <thead>\n",
       "    <tr style=\"text-align: right;\">\n",
       "      <th></th>\n",
       "      <th>Project Name</th>\n",
       "      <th>Bore Hole No.</th>\n",
       "      <th>Depth from ground level(m)</th>\n",
       "      <th>Breadth(m)</th>\n",
       "      <th>N(Ave)</th>\n",
       "      <th>Safe Bearing Pressure(kN/m^2)</th>\n",
       "      <th>Allowable Bearing Pressure(kN/m^2)</th>\n",
       "      <th>Type of soil</th>\n",
       "      <th>Differential Free Swell Index</th>\n",
       "      <th>Degree of Sensitivity</th>\n",
       "    </tr>\n",
       "  </thead>\n",
       "  <tbody>\n",
       "    <tr>\n",
       "      <th>0</th>\n",
       "      <td>spt-14-2021-22</td>\n",
       "      <td>1.0</td>\n",
       "      <td>2.0</td>\n",
       "      <td>2.0</td>\n",
       "      <td>8.0</td>\n",
       "      <td>64.0</td>\n",
       "      <td>NaN</td>\n",
       "      <td>Reddish clay</td>\n",
       "      <td>NaN</td>\n",
       "      <td>NaN</td>\n",
       "    </tr>\n",
       "    <tr>\n",
       "      <th>1</th>\n",
       "      <td>NaN</td>\n",
       "      <td>NaN</td>\n",
       "      <td>3.0</td>\n",
       "      <td>2.0</td>\n",
       "      <td>27.0</td>\n",
       "      <td>333.0</td>\n",
       "      <td>NaN</td>\n",
       "      <td>Reddish Morum</td>\n",
       "      <td>NaN</td>\n",
       "      <td>NaN</td>\n",
       "    </tr>\n",
       "    <tr>\n",
       "      <th>2</th>\n",
       "      <td>spt-15-2021-22</td>\n",
       "      <td>1.0</td>\n",
       "      <td>2.0</td>\n",
       "      <td>2.0</td>\n",
       "      <td>13.0</td>\n",
       "      <td>127.0</td>\n",
       "      <td>NaN</td>\n",
       "      <td>Black and brownish clay</td>\n",
       "      <td>NaN</td>\n",
       "      <td>NaN</td>\n",
       "    </tr>\n",
       "    <tr>\n",
       "      <th>3</th>\n",
       "      <td>NaN</td>\n",
       "      <td>NaN</td>\n",
       "      <td>3.0</td>\n",
       "      <td>2.0</td>\n",
       "      <td>131.0</td>\n",
       "      <td>389.0</td>\n",
       "      <td>NaN</td>\n",
       "      <td>Brown and whitish gravel</td>\n",
       "      <td>NaN</td>\n",
       "      <td>NaN</td>\n",
       "    </tr>\n",
       "    <tr>\n",
       "      <th>4</th>\n",
       "      <td>NaN</td>\n",
       "      <td>2.0</td>\n",
       "      <td>2.0</td>\n",
       "      <td>2.0</td>\n",
       "      <td>14.0</td>\n",
       "      <td>140.0</td>\n",
       "      <td>NaN</td>\n",
       "      <td>Black and brownish clay</td>\n",
       "      <td>NaN</td>\n",
       "      <td>NaN</td>\n",
       "    </tr>\n",
       "  </tbody>\n",
       "</table>\n",
       "</div>"
      ],
      "text/plain": [
       "     Project Name  Bore Hole No.  Depth from ground level(m)  Breadth(m)  \\\n",
       "0  spt-14-2021-22            1.0                         2.0         2.0   \n",
       "1             NaN            NaN                         3.0         2.0   \n",
       "2  spt-15-2021-22            1.0                         2.0         2.0   \n",
       "3             NaN            NaN                         3.0         2.0   \n",
       "4             NaN            2.0                         2.0         2.0   \n",
       "\n",
       "   N(Ave)  Safe Bearing Pressure(kN/m^2)  Allowable Bearing Pressure(kN/m^2)  \\\n",
       "0     8.0                           64.0                                 NaN   \n",
       "1    27.0                          333.0                                 NaN   \n",
       "2    13.0                          127.0                                 NaN   \n",
       "3   131.0                          389.0                                 NaN   \n",
       "4    14.0                          140.0                                 NaN   \n",
       "\n",
       "               Type of soil  Differential Free Swell Index  \\\n",
       "0              Reddish clay                            NaN   \n",
       "1             Reddish Morum                            NaN   \n",
       "2   Black and brownish clay                            NaN   \n",
       "3  Brown and whitish gravel                            NaN   \n",
       "4   Black and brownish clay                            NaN   \n",
       "\n",
       "  Degree of Sensitivity  \n",
       "0                   NaN  \n",
       "1                   NaN  \n",
       "2                   NaN  \n",
       "3                   NaN  \n",
       "4                   NaN  "
      ]
     },
     "execution_count": 3,
     "metadata": {},
     "output_type": "execute_result"
    }
   ],
   "source": [
    "df.head()"
   ]
  },
  {
   "cell_type": "code",
   "execution_count": 4,
   "id": "75d70f7f",
   "metadata": {
    "scrolled": false
   },
   "outputs": [
    {
     "name": "stdout",
     "output_type": "stream",
     "text": [
      "<class 'pandas.core.frame.DataFrame'>\n",
      "RangeIndex: 154 entries, 0 to 153\n",
      "Data columns (total 10 columns):\n",
      " #   Column                              Non-Null Count  Dtype  \n",
      "---  ------                              --------------  -----  \n",
      " 0   Project Name                        47 non-null     object \n",
      " 1   Bore Hole No.                       66 non-null     float64\n",
      " 2   Depth from ground level(m)          144 non-null    float64\n",
      " 3   Breadth(m)                          144 non-null    float64\n",
      " 4   N(Ave)                              144 non-null    float64\n",
      " 5   Safe Bearing Pressure(kN/m^2)       127 non-null    float64\n",
      " 6   Allowable Bearing Pressure(kN/m^2)  81 non-null     float64\n",
      " 7   Type of soil                        136 non-null    object \n",
      " 8   Differential Free Swell Index       7 non-null      float64\n",
      " 9   Degree of Sensitivity               7 non-null      object \n",
      "dtypes: float64(7), object(3)\n",
      "memory usage: 12.2+ KB\n"
     ]
    }
   ],
   "source": [
    "df.info()"
   ]
  },
  {
   "cell_type": "code",
   "execution_count": 5,
   "id": "afad87a5",
   "metadata": {},
   "outputs": [
    {
     "data": {
      "text/html": [
       "<div>\n",
       "<style scoped>\n",
       "    .dataframe tbody tr th:only-of-type {\n",
       "        vertical-align: middle;\n",
       "    }\n",
       "\n",
       "    .dataframe tbody tr th {\n",
       "        vertical-align: top;\n",
       "    }\n",
       "\n",
       "    .dataframe thead th {\n",
       "        text-align: right;\n",
       "    }\n",
       "</style>\n",
       "<table border=\"1\" class=\"dataframe\">\n",
       "  <thead>\n",
       "    <tr style=\"text-align: right;\">\n",
       "      <th></th>\n",
       "      <th>count</th>\n",
       "      <th>mean</th>\n",
       "      <th>std</th>\n",
       "      <th>min</th>\n",
       "      <th>25%</th>\n",
       "      <th>50%</th>\n",
       "      <th>75%</th>\n",
       "      <th>max</th>\n",
       "    </tr>\n",
       "  </thead>\n",
       "  <tbody>\n",
       "    <tr>\n",
       "      <th>Bore Hole No.</th>\n",
       "      <td>66.0</td>\n",
       "      <td>1.378788</td>\n",
       "      <td>0.548148</td>\n",
       "      <td>1.0</td>\n",
       "      <td>1.0</td>\n",
       "      <td>1.0</td>\n",
       "      <td>2.0</td>\n",
       "      <td>3.0</td>\n",
       "    </tr>\n",
       "    <tr>\n",
       "      <th>Depth from ground level(m)</th>\n",
       "      <td>144.0</td>\n",
       "      <td>2.593750</td>\n",
       "      <td>1.727977</td>\n",
       "      <td>1.0</td>\n",
       "      <td>2.0</td>\n",
       "      <td>2.0</td>\n",
       "      <td>3.0</td>\n",
       "      <td>11.0</td>\n",
       "    </tr>\n",
       "    <tr>\n",
       "      <th>Breadth(m)</th>\n",
       "      <td>144.0</td>\n",
       "      <td>2.000000</td>\n",
       "      <td>0.000000</td>\n",
       "      <td>2.0</td>\n",
       "      <td>2.0</td>\n",
       "      <td>2.0</td>\n",
       "      <td>2.0</td>\n",
       "      <td>2.0</td>\n",
       "    </tr>\n",
       "    <tr>\n",
       "      <th>N(Ave)</th>\n",
       "      <td>144.0</td>\n",
       "      <td>30.861111</td>\n",
       "      <td>20.107269</td>\n",
       "      <td>7.0</td>\n",
       "      <td>18.0</td>\n",
       "      <td>27.0</td>\n",
       "      <td>39.0</td>\n",
       "      <td>131.0</td>\n",
       "    </tr>\n",
       "    <tr>\n",
       "      <th>Safe Bearing Pressure(kN/m^2)</th>\n",
       "      <td>127.0</td>\n",
       "      <td>379.299213</td>\n",
       "      <td>275.618505</td>\n",
       "      <td>51.0</td>\n",
       "      <td>194.0</td>\n",
       "      <td>318.0</td>\n",
       "      <td>483.0</td>\n",
       "      <td>1347.0</td>\n",
       "    </tr>\n",
       "    <tr>\n",
       "      <th>Allowable Bearing Pressure(kN/m^2)</th>\n",
       "      <td>81.0</td>\n",
       "      <td>328.604938</td>\n",
       "      <td>120.519882</td>\n",
       "      <td>135.0</td>\n",
       "      <td>208.0</td>\n",
       "      <td>340.0</td>\n",
       "      <td>400.0</td>\n",
       "      <td>598.0</td>\n",
       "    </tr>\n",
       "    <tr>\n",
       "      <th>Differential Free Swell Index</th>\n",
       "      <td>7.0</td>\n",
       "      <td>45.714286</td>\n",
       "      <td>7.867958</td>\n",
       "      <td>40.0</td>\n",
       "      <td>40.0</td>\n",
       "      <td>40.0</td>\n",
       "      <td>50.0</td>\n",
       "      <td>60.0</td>\n",
       "    </tr>\n",
       "  </tbody>\n",
       "</table>\n",
       "</div>"
      ],
      "text/plain": [
       "                                    count        mean         std    min  \\\n",
       "Bore Hole No.                        66.0    1.378788    0.548148    1.0   \n",
       "Depth from ground level(m)          144.0    2.593750    1.727977    1.0   \n",
       "Breadth(m)                          144.0    2.000000    0.000000    2.0   \n",
       "N(Ave)                              144.0   30.861111   20.107269    7.0   \n",
       "Safe Bearing Pressure(kN/m^2)       127.0  379.299213  275.618505   51.0   \n",
       "Allowable Bearing Pressure(kN/m^2)   81.0  328.604938  120.519882  135.0   \n",
       "Differential Free Swell Index         7.0   45.714286    7.867958   40.0   \n",
       "\n",
       "                                      25%    50%    75%     max  \n",
       "Bore Hole No.                         1.0    1.0    2.0     3.0  \n",
       "Depth from ground level(m)            2.0    2.0    3.0    11.0  \n",
       "Breadth(m)                            2.0    2.0    2.0     2.0  \n",
       "N(Ave)                               18.0   27.0   39.0   131.0  \n",
       "Safe Bearing Pressure(kN/m^2)       194.0  318.0  483.0  1347.0  \n",
       "Allowable Bearing Pressure(kN/m^2)  208.0  340.0  400.0   598.0  \n",
       "Differential Free Swell Index        40.0   40.0   50.0    60.0  "
      ]
     },
     "execution_count": 5,
     "metadata": {},
     "output_type": "execute_result"
    }
   ],
   "source": [
    "df.describe().T"
   ]
  },
  {
   "cell_type": "markdown",
   "id": "24ea4541",
   "metadata": {},
   "source": [
    "### Dropping the unwanted columns"
   ]
  },
  {
   "cell_type": "code",
   "execution_count": 6,
   "id": "45b2e17b",
   "metadata": {},
   "outputs": [],
   "source": [
    "df=df.drop(['Project Name','Bore Hole No.'],axis=1)"
   ]
  },
  {
   "cell_type": "code",
   "execution_count": 7,
   "id": "d64281a6",
   "metadata": {},
   "outputs": [
    {
     "data": {
      "text/plain": [
       "Depth from ground level(m)             10\n",
       "Breadth(m)                             10\n",
       "N(Ave)                                 10\n",
       "Safe Bearing Pressure(kN/m^2)          27\n",
       "Allowable Bearing Pressure(kN/m^2)     73\n",
       "Type of soil                           18\n",
       "Differential Free Swell Index         147\n",
       "Degree of Sensitivity                 147\n",
       "dtype: int64"
      ]
     },
     "execution_count": 7,
     "metadata": {},
     "output_type": "execute_result"
    }
   ],
   "source": [
    "df.isna().sum()"
   ]
  },
  {
   "cell_type": "code",
   "execution_count": 8,
   "id": "7fa30fdb",
   "metadata": {},
   "outputs": [],
   "source": [
    "df=df.drop(['Differential Free Swell Index' , 'Degree of Sensitivity'],axis=1)"
   ]
  },
  {
   "cell_type": "code",
   "execution_count": 9,
   "id": "9eed402d",
   "metadata": {
    "scrolled": true
   },
   "outputs": [
    {
     "data": {
      "text/plain": [
       "Depth from ground level(m)            10\n",
       "Breadth(m)                            10\n",
       "N(Ave)                                10\n",
       "Safe Bearing Pressure(kN/m^2)         27\n",
       "Allowable Bearing Pressure(kN/m^2)    73\n",
       "Type of soil                          18\n",
       "dtype: int64"
      ]
     },
     "execution_count": 9,
     "metadata": {},
     "output_type": "execute_result"
    }
   ],
   "source": [
    "df.isna().sum()"
   ]
  },
  {
   "cell_type": "code",
   "execution_count": 10,
   "id": "659e10d0",
   "metadata": {},
   "outputs": [],
   "source": [
    "df = df.dropna(subset=['Type of soil'])"
   ]
  },
  {
   "cell_type": "code",
   "execution_count": 11,
   "id": "9ea3a606",
   "metadata": {
    "scrolled": true
   },
   "outputs": [
    {
     "data": {
      "text/plain": [
       "Depth from ground level(m)             0\n",
       "Breadth(m)                             2\n",
       "N(Ave)                                 0\n",
       "Safe Bearing Pressure(kN/m^2)         13\n",
       "Allowable Bearing Pressure(kN/m^2)    59\n",
       "Type of soil                           0\n",
       "dtype: int64"
      ]
     },
     "execution_count": 11,
     "metadata": {},
     "output_type": "execute_result"
    }
   ],
   "source": [
    "df.isna().sum()"
   ]
  },
  {
   "cell_type": "code",
   "execution_count": 12,
   "id": "3df4a435",
   "metadata": {
    "scrolled": true
   },
   "outputs": [
    {
     "data": {
      "text/html": [
       "<div>\n",
       "<style scoped>\n",
       "    .dataframe tbody tr th:only-of-type {\n",
       "        vertical-align: middle;\n",
       "    }\n",
       "\n",
       "    .dataframe tbody tr th {\n",
       "        vertical-align: top;\n",
       "    }\n",
       "\n",
       "    .dataframe thead th {\n",
       "        text-align: right;\n",
       "    }\n",
       "</style>\n",
       "<table border=\"1\" class=\"dataframe\">\n",
       "  <thead>\n",
       "    <tr style=\"text-align: right;\">\n",
       "      <th></th>\n",
       "      <th>Depth from ground level(m)</th>\n",
       "      <th>Breadth(m)</th>\n",
       "      <th>N(Ave)</th>\n",
       "      <th>Safe Bearing Pressure(kN/m^2)</th>\n",
       "      <th>Allowable Bearing Pressure(kN/m^2)</th>\n",
       "      <th>Type of soil</th>\n",
       "    </tr>\n",
       "  </thead>\n",
       "  <tbody>\n",
       "    <tr>\n",
       "      <th>0</th>\n",
       "      <td>2.0</td>\n",
       "      <td>2.0</td>\n",
       "      <td>8.0</td>\n",
       "      <td>64.0</td>\n",
       "      <td>NaN</td>\n",
       "      <td>Reddish clay</td>\n",
       "    </tr>\n",
       "    <tr>\n",
       "      <th>1</th>\n",
       "      <td>3.0</td>\n",
       "      <td>2.0</td>\n",
       "      <td>27.0</td>\n",
       "      <td>333.0</td>\n",
       "      <td>NaN</td>\n",
       "      <td>Reddish Morum</td>\n",
       "    </tr>\n",
       "    <tr>\n",
       "      <th>2</th>\n",
       "      <td>2.0</td>\n",
       "      <td>2.0</td>\n",
       "      <td>13.0</td>\n",
       "      <td>127.0</td>\n",
       "      <td>NaN</td>\n",
       "      <td>Black and brownish clay</td>\n",
       "    </tr>\n",
       "    <tr>\n",
       "      <th>3</th>\n",
       "      <td>3.0</td>\n",
       "      <td>2.0</td>\n",
       "      <td>131.0</td>\n",
       "      <td>389.0</td>\n",
       "      <td>NaN</td>\n",
       "      <td>Brown and whitish gravel</td>\n",
       "    </tr>\n",
       "    <tr>\n",
       "      <th>4</th>\n",
       "      <td>2.0</td>\n",
       "      <td>2.0</td>\n",
       "      <td>14.0</td>\n",
       "      <td>140.0</td>\n",
       "      <td>NaN</td>\n",
       "      <td>Black and brownish clay</td>\n",
       "    </tr>\n",
       "  </tbody>\n",
       "</table>\n",
       "</div>"
      ],
      "text/plain": [
       "   Depth from ground level(m)  Breadth(m)  N(Ave)  \\\n",
       "0                         2.0         2.0     8.0   \n",
       "1                         3.0         2.0    27.0   \n",
       "2                         2.0         2.0    13.0   \n",
       "3                         3.0         2.0   131.0   \n",
       "4                         2.0         2.0    14.0   \n",
       "\n",
       "   Safe Bearing Pressure(kN/m^2)  Allowable Bearing Pressure(kN/m^2)  \\\n",
       "0                           64.0                                 NaN   \n",
       "1                          333.0                                 NaN   \n",
       "2                          127.0                                 NaN   \n",
       "3                          389.0                                 NaN   \n",
       "4                          140.0                                 NaN   \n",
       "\n",
       "               Type of soil  \n",
       "0              Reddish clay  \n",
       "1             Reddish Morum  \n",
       "2   Black and brownish clay  \n",
       "3  Brown and whitish gravel  \n",
       "4   Black and brownish clay  "
      ]
     },
     "execution_count": 12,
     "metadata": {},
     "output_type": "execute_result"
    }
   ],
   "source": [
    "df.head()"
   ]
  },
  {
   "cell_type": "markdown",
   "id": "97f5224d",
   "metadata": {},
   "source": [
    "### Imputaion"
   ]
  },
  {
   "cell_type": "code",
   "execution_count": 13,
   "id": "3f230516",
   "metadata": {},
   "outputs": [],
   "source": [
    "df['Breadth(m)'].fillna(int(df['Breadth(m)'].mean()), inplace=True)"
   ]
  },
  {
   "cell_type": "code",
   "execution_count": 14,
   "id": "6d0b164a",
   "metadata": {},
   "outputs": [],
   "source": [
    "df['Safe Bearing Pressure(kN/m^2)'].fillna(int(df['Safe Bearing Pressure(kN/m^2)'].mean()), inplace=True)"
   ]
  },
  {
   "cell_type": "code",
   "execution_count": 15,
   "id": "b325b638",
   "metadata": {},
   "outputs": [],
   "source": [
    "df['Allowable Bearing Pressure(kN/m^2)'].fillna(int(df['Allowable Bearing Pressure(kN/m^2)'].mean()), inplace=True)"
   ]
  },
  {
   "cell_type": "code",
   "execution_count": 16,
   "id": "19b0b2f6",
   "metadata": {},
   "outputs": [
    {
     "data": {
      "text/plain": [
       "Depth from ground level(m)            0\n",
       "Breadth(m)                            0\n",
       "N(Ave)                                0\n",
       "Safe Bearing Pressure(kN/m^2)         0\n",
       "Allowable Bearing Pressure(kN/m^2)    0\n",
       "Type of soil                          0\n",
       "dtype: int64"
      ]
     },
     "execution_count": 16,
     "metadata": {},
     "output_type": "execute_result"
    }
   ],
   "source": [
    "df.isna().sum()"
   ]
  },
  {
   "cell_type": "markdown",
   "id": "d58ae014",
   "metadata": {},
   "source": [
    "## EDA"
   ]
  },
  {
   "cell_type": "code",
   "execution_count": 17,
   "id": "689f20cd",
   "metadata": {},
   "outputs": [
    {
     "data": {
      "text/plain": [
       "<seaborn.axisgrid.PairGrid at 0x25400b2c5b0>"
      ]
     },
     "execution_count": 17,
     "metadata": {},
     "output_type": "execute_result"
    },
    {
     "data": {
      "image/png": "[encoded data removed]",
      "text/plain": [
       "<Figure size 900x900 with 30 Axes>"
      ]
     },
     "metadata": {
      "needs_background": "light"
     },
     "output_type": "display_data"
    }
   ],
   "source": [
    "sns.pairplot(df)"
   ]
  },
  {
   "cell_type": "code",
   "execution_count": 18,
   "id": "fcef7c6f",
   "metadata": {},
   "outputs": [
    {
     "data": {
      "text/plain": [
       "<AxesSubplot:xlabel='Depth from ground level(m)', ylabel='Safe Bearing Pressure(kN/m^2)'>"
      ]
     },
     "execution_count": 18,
     "metadata": {},
     "output_type": "execute_result"
    },
    {
     "data": {
      "image/png": "[encoded data removed]",
      "text/plain": [
       "<Figure size 432x288 with 1 Axes>"
      ]
     },
     "metadata": {
      "needs_background": "light"
     },
     "output_type": "display_data"
    }
   ],
   "source": [
    "sns.scatterplot(x='Depth from ground level(m)',y='Safe Bearing Pressure(kN/m^2)',data=df)"
   ]
  },
  {
   "cell_type": "code",
   "execution_count": 19,
   "id": "605bbb79",
   "metadata": {},
   "outputs": [
    {
     "data": {
      "text/plain": [
       "<AxesSubplot:>"
      ]
     },
     "execution_count": 19,
     "metadata": {},
     "output_type": "execute_result"
    },
    {
     "data": {
      "image/png": "[encoded data removed]",
      "text/plain": [
       "<Figure size 432x288 with 2 Axes>"
      ]
     },
     "metadata": {
      "needs_background": "light"
     },
     "output_type": "display_data"
    }
   ],
   "source": [
    "sns.heatmap(df.corr(),annot=True)"
   ]
  },
  {
   "cell_type": "code",
   "execution_count": 20,
   "id": "bc668983",
   "metadata": {},
   "outputs": [],
   "source": [
    "df=df.drop('Breadth(m)',axis=1)"
   ]
  },
  {
   "cell_type": "code",
   "execution_count": 21,
   "id": "efdcf29c",
   "metadata": {},
   "outputs": [
    {
     "data": {
      "text/html": [
       "<div>\n",
       "<style scoped>\n",
       "    .dataframe tbody tr th:only-of-type {\n",
       "        vertical-align: middle;\n",
       "    }\n",
       "\n",
       "    .dataframe tbody tr th {\n",
       "        vertical-align: top;\n",
       "    }\n",
       "\n",
       "    .dataframe thead th {\n",
       "        text-align: right;\n",
       "    }\n",
       "</style>\n",
       "<table border=\"1\" class=\"dataframe\">\n",
       "  <thead>\n",
       "    <tr style=\"text-align: right;\">\n",
       "      <th></th>\n",
       "      <th>Depth from ground level(m)</th>\n",
       "      <th>N(Ave)</th>\n",
       "      <th>Safe Bearing Pressure(kN/m^2)</th>\n",
       "      <th>Allowable Bearing Pressure(kN/m^2)</th>\n",
       "      <th>Type of soil</th>\n",
       "    </tr>\n",
       "  </thead>\n",
       "  <tbody>\n",
       "    <tr>\n",
       "      <th>0</th>\n",
       "      <td>2.0</td>\n",
       "      <td>8.0</td>\n",
       "      <td>64.0</td>\n",
       "      <td>314.0</td>\n",
       "      <td>Reddish clay</td>\n",
       "    </tr>\n",
       "    <tr>\n",
       "      <th>1</th>\n",
       "      <td>3.0</td>\n",
       "      <td>27.0</td>\n",
       "      <td>333.0</td>\n",
       "      <td>314.0</td>\n",
       "      <td>Reddish Morum</td>\n",
       "    </tr>\n",
       "    <tr>\n",
       "      <th>2</th>\n",
       "      <td>2.0</td>\n",
       "      <td>13.0</td>\n",
       "      <td>127.0</td>\n",
       "      <td>314.0</td>\n",
       "      <td>Black and brownish clay</td>\n",
       "    </tr>\n",
       "    <tr>\n",
       "      <th>3</th>\n",
       "      <td>3.0</td>\n",
       "      <td>131.0</td>\n",
       "      <td>389.0</td>\n",
       "      <td>314.0</td>\n",
       "      <td>Brown and whitish gravel</td>\n",
       "    </tr>\n",
       "    <tr>\n",
       "      <th>4</th>\n",
       "      <td>2.0</td>\n",
       "      <td>14.0</td>\n",
       "      <td>140.0</td>\n",
       "      <td>314.0</td>\n",
       "      <td>Black and brownish clay</td>\n",
       "    </tr>\n",
       "  </tbody>\n",
       "</table>\n",
       "</div>"
      ],
      "text/plain": [
       "   Depth from ground level(m)  N(Ave)  Safe Bearing Pressure(kN/m^2)  \\\n",
       "0                         2.0     8.0                           64.0   \n",
       "1                         3.0    27.0                          333.0   \n",
       "2                         2.0    13.0                          127.0   \n",
       "3                         3.0   131.0                          389.0   \n",
       "4                         2.0    14.0                          140.0   \n",
       "\n",
       "   Allowable Bearing Pressure(kN/m^2)              Type of soil  \n",
       "0                               314.0              Reddish clay  \n",
       "1                               314.0             Reddish Morum  \n",
       "2                               314.0   Black and brownish clay  \n",
       "3                               314.0  Brown and whitish gravel  \n",
       "4                               314.0   Black and brownish clay  "
      ]
     },
     "execution_count": 21,
     "metadata": {},
     "output_type": "execute_result"
    }
   ],
   "source": [
    "df.head()"
   ]
  },
  {
   "cell_type": "code",
   "execution_count": 22,
   "id": "a6852d38",
   "metadata": {},
   "outputs": [
    {
     "data": {
      "text/plain": [
       "<AxesSubplot:>"
      ]
     },
     "execution_count": 22,
     "metadata": {},
     "output_type": "execute_result"
    },
    {
     "data": {
      "image/png": "[encoded data removed]",
      "text/plain": [
       "<Figure size 432x288 with 2 Axes>"
      ]
     },
     "metadata": {
      "needs_background": "light"
     },
     "output_type": "display_data"
    }
   ],
   "source": [
    "sns.heatmap(df.corr(),annot=True)"
   ]
  },
  {
   "cell_type": "code",
   "execution_count": 23,
   "id": "6773db32",
   "metadata": {
    "scrolled": false
   },
   "outputs": [
    {
     "data": {
      "text/plain": [
       "<AxesSubplot:>"
      ]
     },
     "execution_count": 23,
     "metadata": {},
     "output_type": "execute_result"
    },
    {
     "data": {
      "image/png": "[encoded data removed]",
      "text/plain": [
       "<Figure size 864x432 with 1 Axes>"
      ]
     },
     "metadata": {
      "needs_background": "light"
     },
     "output_type": "display_data"
    }
   ],
   "source": [
    "plt.figure(figsize=(12,6))\n",
    "sns.boxplot(data=df)"
   ]
  },
  {
   "cell_type": "code",
   "execution_count": 24,
   "id": "b65fcc03",
   "metadata": {
    "scrolled": true
   },
   "outputs": [
    {
     "name": "stdout",
     "output_type": "stream",
     "text": [
      "<class 'pandas.core.frame.DataFrame'>\n",
      "Int64Index: 136 entries, 0 to 151\n",
      "Data columns (total 5 columns):\n",
      " #   Column                              Non-Null Count  Dtype  \n",
      "---  ------                              --------------  -----  \n",
      " 0   Depth from ground level(m)          136 non-null    float64\n",
      " 1   N(Ave)                              136 non-null    float64\n",
      " 2   Safe Bearing Pressure(kN/m^2)       136 non-null    float64\n",
      " 3   Allowable Bearing Pressure(kN/m^2)  136 non-null    float64\n",
      " 4   Type of soil                        136 non-null    object \n",
      "dtypes: float64(4), object(1)\n",
      "memory usage: 6.4+ KB\n"
     ]
    }
   ],
   "source": [
    "df.info()"
   ]
  },
  {
   "cell_type": "code",
   "execution_count": 25,
   "id": "fa4f7c53",
   "metadata": {
    "scrolled": false
   },
   "outputs": [
    {
     "name": "stderr",
     "output_type": "stream",
     "text": [
      "C:\\Users\\SUDU\\anaconda3\\lib\\site-packages\\seaborn\\distributions.py:2619: FutureWarning: `distplot` is a deprecated function and will be removed in a future version. Please adapt your code to use either `displot` (a figure-level function with similar flexibility) or `kdeplot` (an axes-level function for kernel density plots).\n",
      "  warnings.warn(msg, FutureWarning)\n",
      "C:\\Users\\SUDU\\anaconda3\\lib\\site-packages\\seaborn\\distributions.py:2619: FutureWarning: `distplot` is a deprecated function and will be removed in a future version. Please adapt your code to use either `displot` (a figure-level function with similar flexibility) or `kdeplot` (an axes-level function for kernel density plots).\n",
      "  warnings.warn(msg, FutureWarning)\n"
     ]
    },
    {
     "data": {
      "image/png": "[encoded data removed]",
      "text/plain": [
       "<Figure size 864x576 with 1 Axes>"
      ]
     },
     "metadata": {
      "needs_background": "light"
     },
     "output_type": "display_data"
    }
   ],
   "source": [
    "plt.figure(figsize=(12,8))\n",
    "sns.distplot(df['Safe Bearing Pressure(kN/m^2)'],color='blue',hist=False,label='Safe Bearing Pressure')\n",
    "sns.distplot(df['Depth from ground level(m)'],color='red',hist=False,label='Depth from ground level(m)')\n",
    "plt.legend()\n",
    "plt.show()"
   ]
  },
  {
   "cell_type": "code",
   "execution_count": 26,
   "id": "3940c25f",
   "metadata": {},
   "outputs": [
    {
     "name": "stderr",
     "output_type": "stream",
     "text": [
      "C:\\Users\\SUDU\\anaconda3\\lib\\site-packages\\seaborn\\distributions.py:2619: FutureWarning: `distplot` is a deprecated function and will be removed in a future version. Please adapt your code to use either `displot` (a figure-level function with similar flexibility) or `kdeplot` (an axes-level function for kernel density plots).\n",
      "  warnings.warn(msg, FutureWarning)\n",
      "C:\\Users\\SUDU\\anaconda3\\lib\\site-packages\\seaborn\\distributions.py:2619: FutureWarning: `distplot` is a deprecated function and will be removed in a future version. Please adapt your code to use either `displot` (a figure-level function with similar flexibility) or `kdeplot` (an axes-level function for kernel density plots).\n",
      "  warnings.warn(msg, FutureWarning)\n"
     ]
    },
    {
     "data": {
      "image/png": "[encoded data removed]",
      "text/plain": [
       "<Figure size 864x576 with 1 Axes>"
      ]
     },
     "metadata": {
      "needs_background": "light"
     },
     "output_type": "display_data"
    }
   ],
   "source": [
    "plt.figure(figsize=(12,8))\n",
    "sns.distplot(df['Safe Bearing Pressure(kN/m^2)'],color='blue',hist=False,label='Safe Bearing Pressure')\n",
    "sns.distplot(df['N(Ave)'],color='red',hist=False,label='N(Ave)')\n",
    "plt.legend()\n",
    "plt.show()"
   ]
  },
  {
   "cell_type": "code",
   "execution_count": 27,
   "id": "72bddaa6",
   "metadata": {},
   "outputs": [
    {
     "name": "stderr",
     "output_type": "stream",
     "text": [
      "C:\\Users\\SUDU\\anaconda3\\lib\\site-packages\\seaborn\\distributions.py:2619: FutureWarning: `distplot` is a deprecated function and will be removed in a future version. Please adapt your code to use either `displot` (a figure-level function with similar flexibility) or `kdeplot` (an axes-level function for kernel density plots).\n",
      "  warnings.warn(msg, FutureWarning)\n",
      "C:\\Users\\SUDU\\anaconda3\\lib\\site-packages\\seaborn\\distributions.py:2619: FutureWarning: `distplot` is a deprecated function and will be removed in a future version. Please adapt your code to use either `displot` (a figure-level function with similar flexibility) or `kdeplot` (an axes-level function for kernel density plots).\n",
      "  warnings.warn(msg, FutureWarning)\n"
     ]
    },
    {
     "data": {
      "image/png": "[encoded data removed]",
      "text/plain": [
       "<Figure size 864x576 with 1 Axes>"
      ]
     },
     "metadata": {
      "needs_background": "light"
     },
     "output_type": "display_data"
    }
   ],
   "source": [
    "plt.figure(figsize=(12,8))\n",
    "sns.distplot(df['Safe Bearing Pressure(kN/m^2)'],color='blue',hist=False,label='Safe Bearing Pressure')\n",
    "sns.distplot(df['Allowable Bearing Pressure(kN/m^2)'],color='red',hist=False,label='Allowable Bearing Pressure(kN/m^2)')\n",
    "plt.legend()\n",
    "plt.show()"
   ]
  },
  {
   "cell_type": "code",
   "execution_count": 28,
   "id": "e1ed41ac",
   "metadata": {},
   "outputs": [
    {
     "data": {
      "text/plain": [
       "38"
      ]
     },
     "execution_count": 28,
     "metadata": {},
     "output_type": "execute_result"
    }
   ],
   "source": [
    "df['Type of soil'].nunique()"
   ]
  },
  {
   "cell_type": "code",
   "execution_count": 29,
   "id": "832887f8",
   "metadata": {},
   "outputs": [],
   "source": [
    "df= pd.get_dummies(df, columns=['Type of soil'],drop_first=True)"
   ]
  },
  {
   "cell_type": "code",
   "execution_count": 30,
   "id": "3ded0827",
   "metadata": {},
   "outputs": [
    {
     "data": {
      "text/plain": [
       "(136, 41)"
      ]
     },
     "execution_count": 30,
     "metadata": {},
     "output_type": "execute_result"
    }
   ],
   "source": [
    "df.shape"
   ]
  },
  {
   "cell_type": "code",
   "execution_count": 31,
   "id": "7c326e34",
   "metadata": {},
   "outputs": [],
   "source": [
    "#from scipy import stats"
   ]
  },
  {
   "cell_type": "code",
   "execution_count": 32,
   "id": "965ea5b9",
   "metadata": {},
   "outputs": [],
   "source": [
    "#df_new=df[(np.abs(stats.zscore(df))<3).all(axis=1)]"
   ]
  },
  {
   "cell_type": "code",
   "execution_count": 33,
   "id": "a2eb4261",
   "metadata": {
    "scrolled": false
   },
   "outputs": [],
   "source": [
    "#df_new.info()"
   ]
  },
  {
   "cell_type": "code",
   "execution_count": null,
   "id": "8b1eef39",
   "metadata": {},
   "outputs": [],
   "source": []
  },
  {
   "cell_type": "markdown",
   "id": "01c320cf",
   "metadata": {},
   "source": [
    "## Important Feature Selection"
   ]
  },
  {
   "cell_type": "code",
   "execution_count": 34,
   "id": "a677db8b",
   "metadata": {},
   "outputs": [],
   "source": [
    "X= df.drop('Safe Bearing Pressure(kN/m^2)',axis=1)\n",
    "y= df['Safe Bearing Pressure(kN/m^2)']"
   ]
  },
  {
   "cell_type": "code",
   "execution_count": 35,
   "id": "1180462c",
   "metadata": {},
   "outputs": [],
   "source": [
    "from sklearn.ensemble import ExtraTreesRegressor\n",
    "Er= ExtraTreesRegressor()"
   ]
  },
  {
   "cell_type": "code",
   "execution_count": 36,
   "id": "ae3b53e5",
   "metadata": {},
   "outputs": [
    {
     "data": {
      "text/plain": [
       "ExtraTreesRegressor()"
      ]
     },
     "execution_count": 36,
     "metadata": {},
     "output_type": "execute_result"
    }
   ],
   "source": [
    "Er.fit(X,y)"
   ]
  },
  {
   "cell_type": "code",
   "execution_count": 37,
   "id": "3f16ab1b",
   "metadata": {},
   "outputs": [],
   "source": [
    "S= pd.Series(Er.feature_importances_,index=X.columns)"
   ]
  },
  {
   "cell_type": "code",
   "execution_count": 38,
   "id": "9d18736b",
   "metadata": {},
   "outputs": [
    {
     "data": {
      "text/plain": [
       "N(Ave)                                   0.747683\n",
       "Allowable Bearing Pressure(kN/m^2)       0.063640\n",
       "Type of soil_Brownish moorum             0.046325\n",
       "Type of soil_Brown and whitish gravel    0.038845\n",
       "Depth from ground level(m)               0.037077\n",
       "dtype: float64"
      ]
     },
     "execution_count": 38,
     "metadata": {},
     "output_type": "execute_result"
    }
   ],
   "source": [
    "S.nlargest()"
   ]
  },
  {
   "cell_type": "code",
   "execution_count": 39,
   "id": "8f9e52d2",
   "metadata": {},
   "outputs": [],
   "source": [
    "from sklearn.feature_selection import mutual_info_regression\n",
    "\n",
    "Mu= mutual_info_regression(X,y)"
   ]
  },
  {
   "cell_type": "code",
   "execution_count": 40,
   "id": "43174c00",
   "metadata": {},
   "outputs": [
    {
     "data": {
      "text/plain": [
       "N(Ave)                                    2.048966\n",
       "Allowable Bearing Pressure(kN/m^2)        0.610984\n",
       "Depth from ground level(m)                0.206070\n",
       "Type of soil_Brown clay with gravel       0.102463\n",
       "Type of soil_Brownish clay with gravel    0.071559\n",
       "dtype: float64"
      ]
     },
     "execution_count": 40,
     "metadata": {},
     "output_type": "execute_result"
    }
   ],
   "source": [
    "S1= pd.Series(Mu,index=X.columns)\n",
    "S1.nlargest()"
   ]
  },
  {
   "cell_type": "markdown",
   "id": "7202d2fb",
   "metadata": {},
   "source": [
    "## Train and Test Data"
   ]
  },
  {
   "cell_type": "code",
   "execution_count": 41,
   "id": "e8c60394",
   "metadata": {},
   "outputs": [],
   "source": [
    "from sklearn.model_selection import train_test_split"
   ]
  },
  {
   "cell_type": "code",
   "execution_count": 42,
   "id": "43277c24",
   "metadata": {},
   "outputs": [],
   "source": [
    "X_train, X_test, y_train, y_test = train_test_split(X, y, test_size=0.2, random_state=42)"
   ]
  },
  {
   "cell_type": "markdown",
   "id": "e2e3bfaf",
   "metadata": {},
   "source": [
    "## Scaling"
   ]
  },
  {
   "cell_type": "code",
   "execution_count": 43,
   "id": "c32e62c9",
   "metadata": {},
   "outputs": [],
   "source": [
    "from sklearn.preprocessing import StandardScaler\n",
    "Sc= StandardScaler()"
   ]
  },
  {
   "cell_type": "code",
   "execution_count": 44,
   "id": "aa2a1b73",
   "metadata": {},
   "outputs": [],
   "source": [
    "X_train = Sc.fit_transform(X_train)\n",
    "X_test = Sc.transform(X_test)"
   ]
  },
  {
   "cell_type": "markdown",
   "id": "61ec5a36",
   "metadata": {},
   "source": [
    "# Creating a Model"
   ]
  },
  {
   "cell_type": "markdown",
   "id": "4e9cdf4e",
   "metadata": {},
   "source": [
    "## Linear Regression"
   ]
  },
  {
   "cell_type": "code",
   "execution_count": 45,
   "id": "d2ca070b",
   "metadata": {},
   "outputs": [],
   "source": [
    "from sklearn.linear_model import LinearRegression"
   ]
  },
  {
   "cell_type": "code",
   "execution_count": 46,
   "id": "a43c9aed",
   "metadata": {},
   "outputs": [],
   "source": [
    "M1= LinearRegression()"
   ]
  },
  {
   "cell_type": "code",
   "execution_count": 47,
   "id": "1c6ff37f",
   "metadata": {},
   "outputs": [
    {
     "data": {
      "text/plain": [
       "LinearRegression()"
      ]
     },
     "execution_count": 47,
     "metadata": {},
     "output_type": "execute_result"
    }
   ],
   "source": [
    "M1.fit(X_train,y_train)"
   ]
  },
  {
   "cell_type": "code",
   "execution_count": 48,
   "id": "aa9680aa",
   "metadata": {},
   "outputs": [],
   "source": [
    "P1= M1.predict(X_test)"
   ]
  },
  {
   "cell_type": "code",
   "execution_count": 49,
   "id": "ae5078d3",
   "metadata": {},
   "outputs": [
    {
     "name": "stdout",
     "output_type": "stream",
     "text": [
      "79.68699568162295\n",
      "22306.145953093637\n",
      "0.7947102321519216\n"
     ]
    }
   ],
   "source": [
    "from sklearn.metrics import mean_squared_log_error,mean_squared_error,mean_absolute_error,r2_score\n",
    "print(mean_absolute_error(y_test,P1))\n",
    "print(mean_squared_error(y_test,P1))\n",
    "print(r2_score(y_test,P1))"
   ]
  },
  {
   "cell_type": "markdown",
   "id": "b3bd7cf8",
   "metadata": {},
   "source": [
    "## Linear Regression digree 2"
   ]
  },
  {
   "cell_type": "code",
   "execution_count": 50,
   "id": "943f454f",
   "metadata": {},
   "outputs": [],
   "source": [
    "from sklearn.preprocessing import PolynomialFeatures\n",
    "from sklearn.pipeline import make_pipeline"
   ]
  },
  {
   "cell_type": "code",
   "execution_count": 51,
   "id": "cae21e59",
   "metadata": {},
   "outputs": [],
   "source": [
    "M2 = make_pipeline(PolynomialFeatures(degree=2),LinearRegression())"
   ]
  },
  {
   "cell_type": "code",
   "execution_count": 52,
   "id": "e0c6dc17",
   "metadata": {},
   "outputs": [
    {
     "data": {
      "text/plain": [
       "Pipeline(steps=[('polynomialfeatures', PolynomialFeatures()),\n",
       "                ('linearregression', LinearRegression())])"
      ]
     },
     "execution_count": 52,
     "metadata": {},
     "output_type": "execute_result"
    }
   ],
   "source": [
    "M2.fit(X_train,y_train)"
   ]
  },
  {
   "cell_type": "code",
   "execution_count": 53,
   "id": "fb83ff26",
   "metadata": {},
   "outputs": [],
   "source": [
    "P2=M2.predict(X_test)"
   ]
  },
  {
   "cell_type": "code",
   "execution_count": 54,
   "id": "f803488b",
   "metadata": {},
   "outputs": [
    {
     "name": "stdout",
     "output_type": "stream",
     "text": [
      "583333766707.1628\n",
      "6.326118283586038e+24\n",
      "-5.822105515438658e+19\n"
     ]
    }
   ],
   "source": [
    "print(mean_absolute_error(y_test,P2))\n",
    "print(mean_squared_error(y_test,P2))\n",
    "print(r2_score(y_test,P2))"
   ]
  },
  {
   "cell_type": "markdown",
   "id": "27938b30",
   "metadata": {},
   "source": [
    "## Linear Regression digree 3"
   ]
  },
  {
   "cell_type": "code",
   "execution_count": 55,
   "id": "64e1f052",
   "metadata": {},
   "outputs": [
    {
     "name": "stdout",
     "output_type": "stream",
     "text": [
      "26298747650.82947\n",
      "7.030717910184017e+21\n",
      "-6.470568473021345e+16\n"
     ]
    }
   ],
   "source": [
    "M3 = make_pipeline(PolynomialFeatures(degree=3),LinearRegression())\n",
    "M3.fit(X_train,y_train)\n",
    "P3=M3.predict(X_test)\n",
    "\n",
    "print(mean_absolute_error(y_test,P3))\n",
    "print(mean_squared_error(y_test,P3))\n",
    "print(r2_score(y_test,P3))"
   ]
  },
  {
   "cell_type": "markdown",
   "id": "e9670f05",
   "metadata": {},
   "source": [
    "## Ridge Regression\n",
    "\n",
    "\n",
    "Linear least squares with l2 regularization."
   ]
  },
  {
   "cell_type": "code",
   "execution_count": 56,
   "id": "5eb31cad",
   "metadata": {},
   "outputs": [],
   "source": [
    "from sklearn.linear_model import Ridge"
   ]
  },
  {
   "cell_type": "code",
   "execution_count": 57,
   "id": "b1df5d1e",
   "metadata": {},
   "outputs": [],
   "source": [
    "M4 = Ridge()"
   ]
  },
  {
   "cell_type": "code",
   "execution_count": 58,
   "id": "80857a98",
   "metadata": {},
   "outputs": [
    {
     "data": {
      "text/plain": [
       "Ridge()"
      ]
     },
     "execution_count": 58,
     "metadata": {},
     "output_type": "execute_result"
    }
   ],
   "source": [
    "M4.fit(X_train,y_train)"
   ]
  },
  {
   "cell_type": "code",
   "execution_count": 59,
   "id": "9ca618b5",
   "metadata": {},
   "outputs": [],
   "source": [
    "P4= M4.predict(X_test)"
   ]
  },
  {
   "cell_type": "code",
   "execution_count": 60,
   "id": "b06227c1",
   "metadata": {},
   "outputs": [
    {
     "name": "stdout",
     "output_type": "stream",
     "text": [
      "0.21070494446595867\n",
      "80.98440572027206\n",
      "22828.420301217186\n",
      "0.7899035936629262\n"
     ]
    }
   ],
   "source": [
    "print(np.sqrt(mean_squared_log_error(y_test,P4)))\n",
    "print(mean_absolute_error(y_test,P4))\n",
    "print(mean_squared_error(y_test,P4))\n",
    "print(r2_score(y_test,P4))"
   ]
  },
  {
   "cell_type": "markdown",
   "id": "3f416644",
   "metadata": {},
   "source": [
    "## Ridge Regression digree 2"
   ]
  },
  {
   "cell_type": "code",
   "execution_count": 61,
   "id": "ea908799",
   "metadata": {},
   "outputs": [],
   "source": [
    "M5 = make_pipeline(PolynomialFeatures(degree=2),Ridge())"
   ]
  },
  {
   "cell_type": "code",
   "execution_count": 62,
   "id": "5e1893bb",
   "metadata": {},
   "outputs": [],
   "source": [
    "M5.fit(X_train,y_train)\n",
    "P5= M5.predict(X_test)"
   ]
  },
  {
   "cell_type": "code",
   "execution_count": 63,
   "id": "87277680",
   "metadata": {},
   "outputs": [
    {
     "name": "stdout",
     "output_type": "stream",
     "text": [
      "0.45413444726470464\n",
      "138.50757321699885\n",
      "59985.95117974281\n",
      "0.4479323313973176\n"
     ]
    }
   ],
   "source": [
    "print(np.sqrt(mean_squared_log_error(y_test,P5)))\n",
    "print(mean_absolute_error(y_test,P5))\n",
    "print(mean_squared_error(y_test,P5))\n",
    "print(r2_score(y_test,P5))"
   ]
  },
  {
   "cell_type": "markdown",
   "id": "93538402",
   "metadata": {},
   "source": [
    "## Ridge Regression digree 2"
   ]
  },
  {
   "cell_type": "code",
   "execution_count": 64,
   "id": "2b8a5232",
   "metadata": {},
   "outputs": [
    {
     "name": "stdout",
     "output_type": "stream",
     "text": [
      "153.88662633923565\n",
      "84561.03383453214\n",
      "0.2217608975845058\n"
     ]
    }
   ],
   "source": [
    "M6 = make_pipeline(PolynomialFeatures(degree=3),Ridge())\n",
    "M6.fit(X_train,y_train)\n",
    "P6= M6.predict(X_test)\n",
    "\n",
    "print(mean_absolute_error(y_test,P6))\n",
    "print(mean_squared_error(y_test,P6))\n",
    "print(r2_score(y_test,P6))"
   ]
  },
  {
   "cell_type": "markdown",
   "id": "289b9016",
   "metadata": {},
   "source": [
    "## Lasso\n",
    "\n",
    "\n",
    "The Lasso is a linear model that estimates sparse coefficients. It is useful in some contexts due to its tendency to prefer solutions with fewer non-zero coefficients, effectively reducing the number of features upon which the given solution is dependent. "
   ]
  },
  {
   "cell_type": "code",
   "execution_count": 65,
   "id": "eb00aedd",
   "metadata": {},
   "outputs": [],
   "source": [
    "from sklearn.linear_model import Lasso"
   ]
  },
  {
   "cell_type": "code",
   "execution_count": 66,
   "id": "b9ee9614",
   "metadata": {},
   "outputs": [],
   "source": [
    "M7 = Lasso()"
   ]
  },
  {
   "cell_type": "code",
   "execution_count": 67,
   "id": "0479fc24",
   "metadata": {},
   "outputs": [
    {
     "data": {
      "text/plain": [
       "Lasso()"
      ]
     },
     "execution_count": 67,
     "metadata": {},
     "output_type": "execute_result"
    }
   ],
   "source": [
    "M7.fit(X_train,y_train)"
   ]
  },
  {
   "cell_type": "code",
   "execution_count": 68,
   "id": "185c57c9",
   "metadata": {},
   "outputs": [],
   "source": [
    "P7 = M7.predict(X_test)"
   ]
  },
  {
   "cell_type": "code",
   "execution_count": 69,
   "id": "9f8423b4",
   "metadata": {},
   "outputs": [
    {
     "name": "stdout",
     "output_type": "stream",
     "text": [
      "79.19675405788793\n",
      "21906.78089832557\n",
      "0.7983857016638838\n"
     ]
    }
   ],
   "source": [
    "print(mean_absolute_error(y_test,P7))\n",
    "print(mean_squared_error(y_test,P7))\n",
    "print(r2_score(y_test,P7))"
   ]
  },
  {
   "cell_type": "markdown",
   "id": "af3b9fcc",
   "metadata": {},
   "source": [
    "## Lasso 2"
   ]
  },
  {
   "cell_type": "code",
   "execution_count": 70,
   "id": "07d8eb23",
   "metadata": {},
   "outputs": [
    {
     "name": "stdout",
     "output_type": "stream",
     "text": [
      "64.16369353622319\n",
      "14433.259744458104\n",
      "0.8671666298399755\n"
     ]
    }
   ],
   "source": [
    "M8 = make_pipeline(PolynomialFeatures(degree=2),Lasso())\n",
    "M8.fit(X_train,y_train)\n",
    "P8= M8.predict(X_test)\n",
    "\n",
    "print(mean_absolute_error(y_test,P8))\n",
    "print(mean_squared_error(y_test,P8))\n",
    "print(r2_score(y_test,P8))"
   ]
  },
  {
   "cell_type": "markdown",
   "id": "3abe738c",
   "metadata": {},
   "source": [
    "## Lasso 3"
   ]
  },
  {
   "cell_type": "code",
   "execution_count": 71,
   "id": "11da680f",
   "metadata": {},
   "outputs": [
    {
     "name": "stdout",
     "output_type": "stream",
     "text": [
      "143.01700307278549\n",
      "70479.9192201869\n",
      "0.35135337654971244\n"
     ]
    },
    {
     "name": "stderr",
     "output_type": "stream",
     "text": [
      "C:\\Users\\SUDU\\anaconda3\\lib\\site-packages\\sklearn\\linear_model\\_coordinate_descent.py:647: ConvergenceWarning: Objective did not converge. You might want to increase the number of iterations, check the scale of the features or consider increasing regularisation. Duality gap: 1.833e+04, tolerance: 6.452e+02\n",
      "  model = cd_fast.enet_coordinate_descent(\n"
     ]
    }
   ],
   "source": [
    "M9 = make_pipeline(PolynomialFeatures(degree=3),Lasso())\n",
    "M9.fit(X_train,y_train)\n",
    "P9= M9.predict(X_test)\n",
    "\n",
    "print(mean_absolute_error(y_test,P9))\n",
    "print(mean_squared_error(y_test,P9))\n",
    "print(r2_score(y_test,P9))"
   ]
  },
  {
   "cell_type": "markdown",
   "id": "9d539bf8",
   "metadata": {},
   "source": [
    "## SGD Regressor\n",
    "### Stochastic Gradient Descent"
   ]
  },
  {
   "cell_type": "code",
   "execution_count": 72,
   "id": "795643b4",
   "metadata": {},
   "outputs": [],
   "source": [
    "from sklearn.linear_model import SGDRegressor"
   ]
  },
  {
   "cell_type": "code",
   "execution_count": 73,
   "id": "e1bf111b",
   "metadata": {},
   "outputs": [],
   "source": [
    "M10 = SGDRegressor(max_iter=2000, tol=1e-3)"
   ]
  },
  {
   "cell_type": "code",
   "execution_count": 74,
   "id": "8bda1f5c",
   "metadata": {},
   "outputs": [
    {
     "data": {
      "text/plain": [
       "SGDRegressor(max_iter=2000)"
      ]
     },
     "execution_count": 74,
     "metadata": {},
     "output_type": "execute_result"
    }
   ],
   "source": [
    "M10.fit(X_train,y_train)"
   ]
  },
  {
   "cell_type": "code",
   "execution_count": 75,
   "id": "dfeb69d5",
   "metadata": {},
   "outputs": [],
   "source": [
    "P10= M10.predict(X_test)"
   ]
  },
  {
   "cell_type": "code",
   "execution_count": 76,
   "id": "c5765d26",
   "metadata": {},
   "outputs": [
    {
     "name": "stdout",
     "output_type": "stream",
     "text": [
      "82.46750695367608\n",
      "22767.758202386245\n",
      "0.7904618841095308\n"
     ]
    }
   ],
   "source": [
    "print(mean_absolute_error(y_test,P10))\n",
    "print(mean_squared_error(y_test,P10))\n",
    "print(r2_score(y_test,P10))"
   ]
  },
  {
   "cell_type": "markdown",
   "id": "b68e474a",
   "metadata": {},
   "source": [
    "## Decision Tree Regressor"
   ]
  },
  {
   "cell_type": "code",
   "execution_count": 77,
   "id": "920599b5",
   "metadata": {},
   "outputs": [],
   "source": [
    "from sklearn.tree import DecisionTreeRegressor"
   ]
  },
  {
   "cell_type": "code",
   "execution_count": 78,
   "id": "1b2a77d4",
   "metadata": {},
   "outputs": [
    {
     "name": "stdout",
     "output_type": "stream",
     "text": [
      "62.92857142857143\n",
      "20201.071428571428\n",
      "142.1304732580998\n",
      "0.8140838281711897\n"
     ]
    }
   ],
   "source": [
    "M11 = DecisionTreeRegressor()\n",
    "M11.fit(X_train,y_train)\n",
    "P11 = M11.predict(X_test)\n",
    "\n",
    "print(mean_absolute_error(y_test,P11))\n",
    "print(mean_squared_error(y_test,P11))\n",
    "print(np.sqrt(mean_squared_error(y_test,P11)))\n",
    "print(r2_score(y_test,P11))"
   ]
  },
  {
   "cell_type": "markdown",
   "id": "68ee56c3",
   "metadata": {},
   "source": [
    "## Random Forest Regressor"
   ]
  },
  {
   "cell_type": "code",
   "execution_count": 79,
   "id": "46309d16",
   "metadata": {},
   "outputs": [
    {
     "name": "stdout",
     "output_type": "stream",
     "text": [
      "68.91821428571428\n",
      "18200.248075000003\n",
      "134.90829505630853\n",
      "0.8324979711891468\n"
     ]
    }
   ],
   "source": [
    "from sklearn.ensemble import RandomForestRegressor\n",
    "M12 = RandomForestRegressor()\n",
    "\n",
    "M12.fit(X_train,y_train)\n",
    "P12= M12.predict(X_test)\n",
    "\n",
    "print(mean_absolute_error(y_test,P12))\n",
    "print(mean_squared_error(y_test,P12))\n",
    "print(np.sqrt(mean_squared_error(y_test,P12)))\n",
    "print(r2_score(y_test,P12))"
   ]
  },
  {
   "cell_type": "markdown",
   "id": "86b34c41",
   "metadata": {},
   "source": [
    "## AdaBoost Regressor"
   ]
  },
  {
   "cell_type": "code",
   "execution_count": 80,
   "id": "8d072de5",
   "metadata": {},
   "outputs": [
    {
     "name": "stdout",
     "output_type": "stream",
     "text": [
      "92.09397816726984\n",
      "26712.635897255892\n",
      "163.44000702782625\n",
      "0.7541560593439336\n"
     ]
    }
   ],
   "source": [
    "from sklearn.ensemble import AdaBoostRegressor\n",
    "M13 =AdaBoostRegressor()\n",
    "\n",
    "M13.fit(X_train,y_train)\n",
    "P13 =M13.predict(X_test)\n",
    "\n",
    "print(mean_absolute_error(y_test,P13))\n",
    "print(mean_squared_error(y_test,P13))\n",
    "print(np.sqrt(mean_squared_error(y_test,P13)))\n",
    "print(r2_score(y_test,P13))"
   ]
  },
  {
   "cell_type": "markdown",
   "id": "838cdd7c",
   "metadata": {},
   "source": [
    "## Gradient Boosting Regressor"
   ]
  },
  {
   "cell_type": "code",
   "execution_count": 83,
   "id": "d39d9304",
   "metadata": {},
   "outputs": [
    {
     "name": "stdout",
     "output_type": "stream",
     "text": [
      "61.870463650736205\n",
      "17093.286777592\n",
      "130.7412971390142\n",
      "0.8426856489816066\n"
     ]
    }
   ],
   "source": [
    "from sklearn.ensemble import GradientBoostingRegressor\n",
    "M14 = GradientBoostingRegressor()\n",
    "\n",
    "M14.fit(X_train,y_train)\n",
    "P14 = M14.predict(X_test)\n",
    "\n",
    "print(mean_absolute_error(y_test,P14))\n",
    "print(mean_squared_error(y_test,P14))\n",
    "print(np.sqrt(mean_squared_error(y_test,P14)))\n",
    "print(r2_score(y_test,P14))"
   ]
  },
  {
   "cell_type": "markdown",
   "id": "5bd871ec",
   "metadata": {},
   "source": [
    "## KNN Regressor"
   ]
  },
  {
   "cell_type": "code",
   "execution_count": 85,
   "id": "440b8fb7",
   "metadata": {},
   "outputs": [
    {
     "name": "stdout",
     "output_type": "stream",
     "text": [
      "209.85714285714286\n",
      "86402.39285714286\n",
      "293.9428394384576\n",
      "0.20481434988990987\n"
     ]
    }
   ],
   "source": [
    "from sklearn.neighbors import KNeighborsRegressor\n",
    "M15 = KNeighborsRegressor(n_neighbors=2)\n",
    "\n",
    "M15.fit(X_train,y_train)\n",
    "\n",
    "P15= M15.predict(X_test)\n",
    "\n",
    "print(mean_absolute_error(y_test,P15))\n",
    "print(mean_squared_error(y_test,P15))\n",
    "print(np.sqrt(mean_squared_error(y_test,P15)))\n",
    "print(r2_score(y_test,P15))"
   ]
  },
  {
   "cell_type": "code",
   "execution_count": 86,
   "id": "dd100b4b",
   "metadata": {
    "scrolled": false
   },
   "outputs": [
    {
     "data": {
      "text/plain": [
       "Text(0, 0.5, 'Error Rate')"
      ]
     },
     "execution_count": 86,
     "metadata": {},
     "output_type": "execute_result"
    },
    {
     "data": {
      "image/png": "[encoded data removed]",
      "text/plain": [
       "<Figure size 720x576 with 1 Axes>"
      ]
     },
     "metadata": {
      "needs_background": "light"
     },
     "output_type": "display_data"
    }
   ],
   "source": [
    "error_Mat=[]\n",
    "for i in range (1,10):\n",
    "    knn=KNeighborsRegressor(n_neighbors=i)\n",
    "    knn.fit(X_train,y_train)\n",
    "    predict_i=knn.predict(X_test)\n",
    "    error_Mat.append(r2_score(y_test,predict_i))\n",
    "\n",
    "plt.figure(figsize=(10,8))\n",
    "plt.plot(range(1,10),error_Mat,color='blue', linestyle='dashed', marker='o',\n",
    "         markerfacecolor='red', markersize=10)\n",
    "plt.title('Error Rate vs. K Value')\n",
    "plt.xlabel('K')\n",
    "plt.ylabel('Error Rate')"
   ]
  },
  {
   "cell_type": "code",
   "execution_count": 87,
   "id": "a10827f1",
   "metadata": {},
   "outputs": [
    {
     "name": "stdout",
     "output_type": "stream",
     "text": [
      "155.87244897959184\n",
      "58188.32580174927\n",
      "241.222564868524\n",
      "0.464476385995639\n"
     ]
    }
   ],
   "source": [
    "from sklearn.neighbors import KNeighborsRegressor\n",
    "M15 = KNeighborsRegressor(n_neighbors=7)\n",
    "\n",
    "M15.fit(X_train,y_train)\n",
    "\n",
    "P15= M15.predict(X_test)\n",
    "\n",
    "print(mean_absolute_error(y_test,P15))\n",
    "print(mean_squared_error(y_test,P15))\n",
    "print(np.sqrt(mean_squared_error(y_test,P15)))\n",
    "print(r2_score(y_test,P15))"
   ]
  },
  {
   "cell_type": "markdown",
   "id": "9cb0da37",
   "metadata": {},
   "source": [
    "## Support Vector Machine"
   ]
  },
  {
   "cell_type": "code",
   "execution_count": 88,
   "id": "e57b6e32",
   "metadata": {},
   "outputs": [
    {
     "name": "stdout",
     "output_type": "stream",
     "text": [
      "220.49267268721226\n",
      "110527.97837936156\n",
      "332.4574835664879\n",
      "-0.01722023472502432\n"
     ]
    }
   ],
   "source": [
    "from sklearn.svm import SVR\n",
    "M16= SVR()\n",
    "\n",
    "M16.fit(X_train,y_train)\n",
    "\n",
    "P16= M16.predict(X_test)\n",
    "\n",
    "print(mean_absolute_error(y_test,P16))\n",
    "print(mean_squared_error(y_test,P16))\n",
    "print(np.sqrt(mean_squared_error(y_test,P16)))\n",
    "print(r2_score(y_test,P16))"
   ]
  },
  {
   "cell_type": "code",
   "execution_count": 90,
   "id": "584129f6",
   "metadata": {},
   "outputs": [
    {
     "name": "stdout",
     "output_type": "stream",
     "text": [
      "0.25811244386145\n",
      "88.24141197194986\n",
      "31976.3651572289\n",
      "0.7057124707443025\n"
     ]
    }
   ],
   "source": [
    "from sklearn.model_selection import GridSearchCV\n",
    "\n",
    "param_grid = {'C': [0.1,1, 10, 100, 1000,10000], 'gamma': [1,0.1,0.01,0.001,0.0001]} \n",
    "\n",
    "M17=GridSearchCV(SVR(),param_grid)\n",
    "\n",
    "M17.fit(X_train,y_train)\n",
    "\n",
    "P17=M17.predict(X_test)\n",
    "\n",
    "print(np.sqrt(mean_squared_log_error(y_test,P17)))\n",
    "print(mean_absolute_error(y_test,P17))\n",
    "print(mean_squared_error(y_test,P17))\n",
    "print(r2_score(y_test,P17))"
   ]
  },
  {
   "cell_type": "markdown",
   "id": "523e7db3",
   "metadata": {},
   "source": [
    "## Neural Network Regression "
   ]
  },
  {
   "cell_type": "code",
   "execution_count": 91,
   "id": "9068a71f",
   "metadata": {},
   "outputs": [],
   "source": [
    "from tensorflow.keras.models import Sequential\n",
    "from tensorflow.keras.layers import Dense, Activation,Dropout\n",
    "from tensorflow.keras.callbacks import EarlyStopping\n",
    "from tensorflow.keras.optimizers import Adam"
   ]
  },
  {
   "cell_type": "code",
   "execution_count": 92,
   "id": "a7e4451c",
   "metadata": {},
   "outputs": [],
   "source": [
    "M18 = Sequential()\n",
    "\n",
    "M18.add(Dense(units=9,activation='relu'))\n",
    "#M18.add(Dropout(0.5))\n",
    "# best values is b/w 0.2 to 0.5\n",
    "\n",
    "\n",
    "M18.add(Dense(units=5,activation='relu'))\n",
    "#M18.add(Dropout(0.5))\n",
    "\n",
    "M18.add(Dense(units=1,activation='relu'))\n",
    "\n",
    "M18.compile(optimizer='adam',loss='mse')"
   ]
  },
  {
   "cell_type": "code",
   "execution_count": 93,
   "id": "b5616acc",
   "metadata": {},
   "outputs": [],
   "source": [
    "erly = EarlyStopping(monitor='val_loss',mode='min',verbose=0,patience=25)"
   ]
  },
  {
   "cell_type": "code",
   "execution_count": 94,
   "id": "26a115ea",
   "metadata": {},
   "outputs": [
    {
     "data": {
      "text/plain": [
       "<keras.callbacks.History at 0x2540fd43f70>"
      ]
     },
     "execution_count": 94,
     "metadata": {},
     "output_type": "execute_result"
    }
   ],
   "source": [
    "M18.fit(x=X_train,y=y_train,epochs=600,verbose=0,validation_data=(X_test,y_test),callbacks=[erly])"
   ]
  },
  {
   "cell_type": "code",
   "execution_count": 95,
   "id": "178e0dd4",
   "metadata": {},
   "outputs": [],
   "source": [
    "loss =pd.DataFrame(M18.history.history)"
   ]
  },
  {
   "cell_type": "code",
   "execution_count": 96,
   "id": "844d0c07",
   "metadata": {
    "scrolled": true
   },
   "outputs": [
    {
     "data": {
      "text/plain": [
       "<AxesSubplot:>"
      ]
     },
     "execution_count": 96,
     "metadata": {},
     "output_type": "execute_result"
    },
    {
     "data": {
      "image/png": "[encoded data removed]",
      "text/plain": [
       "<Figure size 432x288 with 1 Axes>"
      ]
     },
     "metadata": {
      "needs_background": "light"
     },
     "output_type": "display_data"
    }
   ],
   "source": [
    "loss.plot()"
   ]
  },
  {
   "cell_type": "code",
   "execution_count": 97,
   "id": "82d23fbd",
   "metadata": {},
   "outputs": [
    {
     "name": "stdout",
     "output_type": "stream",
     "text": [
      "0.4925916132401991\n",
      "115.24633543831962\n",
      "31589.957630586636\n",
      "0.7092686884614263\n"
     ]
    }
   ],
   "source": [
    "P18=M18.predict(X_test)\n",
    "\n",
    "print(np.sqrt(mean_squared_log_error(y_test,P18)))\n",
    "print(mean_absolute_error(y_test,P18))\n",
    "print(mean_squared_error(y_test,P18))\n",
    "print(r2_score(y_test,P18))"
   ]
  },
  {
   "cell_type": "markdown",
   "id": "c1351a59",
   "metadata": {},
   "source": [
    "## Hyper parameter tuning"
   ]
  },
  {
   "cell_type": "code",
   "execution_count": 98,
   "id": "09751698",
   "metadata": {},
   "outputs": [],
   "source": [
    "param_grid = {\n",
    "    'criterion': ['mse', 'mae', 'friedman_mse'], \n",
    "    'learning_rate': [0.05, 0.1, 0.15, 0.2], \n",
    "    'max_depth': [2, 3, 4, 5], \n",
    "    'max_features': ['sqrt', None], \n",
    "    'max_leaf_nodes': list(range(2, 10)),\n",
    "    'n_estimators': list(range(50, 500, 50)),\n",
    "    'subsample': [0.8, 0.9, 1.0]\n",
    "}"
   ]
  },
  {
   "cell_type": "code",
   "execution_count": 100,
   "id": "4859e937",
   "metadata": {},
   "outputs": [],
   "source": [
    "import warnings\n",
    "warnings.filterwarnings('ignore')"
   ]
  },
  {
   "cell_type": "code",
   "execution_count": 101,
   "id": "fc06844e",
   "metadata": {
    "scrolled": false
   },
   "outputs": [
    {
     "name": "stdout",
     "output_type": "stream",
     "text": [
      "Fitting 10 folds for each of 5 candidates, totalling 50 fits\n"
     ]
    },
    {
     "data": {
      "text/plain": [
       "RandomizedSearchCV(cv=10, estimator=GradientBoostingRegressor(), n_iter=5,\n",
       "                   n_jobs=-1,\n",
       "                   param_distributions={'criterion': ['mse', 'mae',\n",
       "                                                      'friedman_mse'],\n",
       "                                        'learning_rate': [0.05, 0.1, 0.15, 0.2],\n",
       "                                        'max_depth': [2, 3, 4, 5],\n",
       "                                        'max_features': ['sqrt', None],\n",
       "                                        'max_leaf_nodes': [2, 3, 4, 5, 6, 7, 8,\n",
       "                                                           9],\n",
       "                                        'n_estimators': [50, 100, 150, 200, 250,\n",
       "                                                         300, 350, 400, 450],\n",
       "                                        'subsample': [0.8, 0.9, 1.0]},\n",
       "                   return_train_score=True, verbose=True)"
      ]
     },
     "execution_count": 101,
     "metadata": {},
     "output_type": "execute_result"
    }
   ],
   "source": [
    "from sklearn.model_selection import RandomizedSearchCV\n",
    "\n",
    "\n",
    "rs = RandomizedSearchCV(estimator=GradientBoostingRegressor(), param_distributions=param_grid, \n",
    "                 return_train_score= True, n_jobs=-1, verbose=True, cv = 10, n_iter=5)\n",
    "rs.fit(X_train, y_train)"
   ]
  },
  {
   "cell_type": "code",
   "execution_count": 103,
   "id": "621a7616",
   "metadata": {},
   "outputs": [
    {
     "name": "stdout",
     "output_type": "stream",
     "text": [
      "0.19944808885372284\n",
      "67.08667493084829\n",
      "18496.355008644332\n",
      "0.8297728153601714\n"
     ]
    }
   ],
   "source": [
    "P19= rs.predict(X_test)\n",
    "print(np.sqrt(mean_squared_log_error(y_test,P19)))\n",
    "print(mean_absolute_error(y_test,P19))\n",
    "print(mean_squared_error(y_test,P19))\n",
    "print(r2_score(y_test,P19))"
   ]
  },
  {
   "cell_type": "code",
   "execution_count": 104,
   "id": "950e1ec4",
   "metadata": {},
   "outputs": [
    {
     "data": {
      "text/plain": [
       "{'subsample': 0.8,\n",
       " 'n_estimators': 50,\n",
       " 'max_leaf_nodes': 5,\n",
       " 'max_features': None,\n",
       " 'max_depth': 4,\n",
       " 'learning_rate': 0.15,\n",
       " 'criterion': 'mae'}"
      ]
     },
     "execution_count": 104,
     "metadata": {},
     "output_type": "execute_result"
    }
   ],
   "source": [
    "rs.best_params_"
   ]
  },
  {
   "cell_type": "code",
   "execution_count": 105,
   "id": "b64c1480",
   "metadata": {},
   "outputs": [],
   "source": [
    "grid_2 = {'subsample': [0.7,0.8,0.9],\n",
    " 'n_estimators': [25,50,75],\n",
    " 'max_leaf_nodes': [4,5,6],\n",
    " 'max_features': ['sqrt'],\n",
    " 'max_depth': [3,4,5],\n",
    " 'learning_rate': [0.1,0.15,0.2],\n",
    " 'criterion': ['mse']}\n",
    "\n",
    "M19 = GridSearchCV(estimator=GradientBoostingRegressor(),\n",
    "                          param_grid = grid_2,\n",
    "                          cv=5,\n",
    "                          verbose=True)"
   ]
  },
  {
   "cell_type": "code",
   "execution_count": 106,
   "id": "8722dd5a",
   "metadata": {},
   "outputs": [
    {
     "name": "stdout",
     "output_type": "stream",
     "text": [
      "Fitting 5 folds for each of 243 candidates, totalling 1215 fits\n",
      "0.23988620492019982\n",
      "66.36542885122104\n",
      "13881.48003643168\n",
      "0.8722448144982408\n"
     ]
    }
   ],
   "source": [
    "M19.fit(X_train,y_train)\n",
    "P20= M19.predict(X_test)\n",
    "\n",
    "print(np.sqrt(mean_squared_log_error(y_test,P20)))\n",
    "print(mean_absolute_error(y_test,P20))\n",
    "print(mean_squared_error(y_test,P20))\n",
    "print(r2_score(y_test,P20))"
   ]
  },
  {
   "cell_type": "code",
   "execution_count": 108,
   "id": "04ff89df",
   "metadata": {},
   "outputs": [],
   "source": [
    "Name=['Linear Regression','Linear Regression digree 2','Linear Regression digree 3','Ridge Regression',\n",
    "      'Ridge Regression digree 2','Ridge Regression digree 3','Lasso','Lasso digree 2','Lasso digree 3','SGDRegressor',\n",
    "     'Decision Tree Regressor','Random Forest Regressor','AdaBoost Regressor','Gradient Boosting Regressor','KNN Regressor',\n",
    "      'Support Vector Machine','Neural Network Regression','Gradient Boosting Regresso(HPT)']\n",
    "clfs= [M1,M2,M3,M4,M5,M6,M7,M8,M9,M10,M11,M12,M13,M14,M15,M16,M18,M19]"
   ]
  },
  {
   "cell_type": "code",
   "execution_count": 109,
   "id": "7741d0ce",
   "metadata": {},
   "outputs": [
    {
     "name": "stdout",
     "output_type": "stream",
     "text": [
      "4/4 [==============================] - 0s 3ms/step - loss: 7811.9966\n",
      "Fitting 5 folds for each of 243 candidates, totalling 1215 fits\n"
     ]
    }
   ],
   "source": [
    "results=[]\n",
    "for i in clfs:\n",
    "    i.fit(X_train,y_train)\n",
    "    r2=r2_score(y_test, i.predict(X_test))\n",
    "    results.append(r2)"
   ]
  },
  {
   "cell_type": "code",
   "execution_count": 110,
   "id": "0d17a849",
   "metadata": {
    "scrolled": false
   },
   "outputs": [
    {
     "data": {
      "text/html": [
       "<div>\n",
       "<style scoped>\n",
       "    .dataframe tbody tr th:only-of-type {\n",
       "        vertical-align: middle;\n",
       "    }\n",
       "\n",
       "    .dataframe tbody tr th {\n",
       "        vertical-align: top;\n",
       "    }\n",
       "\n",
       "    .dataframe thead th {\n",
       "        text-align: right;\n",
       "    }\n",
       "</style>\n",
       "<table border=\"1\" class=\"dataframe\">\n",
       "  <thead>\n",
       "    <tr style=\"text-align: right;\">\n",
       "      <th></th>\n",
       "      <th>R2</th>\n",
       "    </tr>\n",
       "  </thead>\n",
       "  <tbody>\n",
       "    <tr>\n",
       "      <th>Lasso digree 2</th>\n",
       "      <td>8.671666e-01</td>\n",
       "    </tr>\n",
       "    <tr>\n",
       "      <th>Gradient Boosting Regresso(HPT)</th>\n",
       "      <td>8.615883e-01</td>\n",
       "    </tr>\n",
       "    <tr>\n",
       "      <th>Gradient Boosting Regressor</th>\n",
       "      <td>8.435973e-01</td>\n",
       "    </tr>\n",
       "    <tr>\n",
       "      <th>Decision Tree Regressor</th>\n",
       "      <td>8.288393e-01</td>\n",
       "    </tr>\n",
       "    <tr>\n",
       "      <th>Random Forest Regressor</th>\n",
       "      <td>8.245216e-01</td>\n",
       "    </tr>\n",
       "    <tr>\n",
       "      <th>Lasso</th>\n",
       "      <td>7.983857e-01</td>\n",
       "    </tr>\n",
       "    <tr>\n",
       "      <th>Linear Regression</th>\n",
       "      <td>7.947102e-01</td>\n",
       "    </tr>\n",
       "    <tr>\n",
       "      <th>SGDRegressor</th>\n",
       "      <td>7.924472e-01</td>\n",
       "    </tr>\n",
       "    <tr>\n",
       "      <th>Ridge Regression</th>\n",
       "      <td>7.899036e-01</td>\n",
       "    </tr>\n",
       "    <tr>\n",
       "      <th>AdaBoost Regressor</th>\n",
       "      <td>7.402662e-01</td>\n",
       "    </tr>\n",
       "    <tr>\n",
       "      <th>Neural Network Regression</th>\n",
       "      <td>7.097549e-01</td>\n",
       "    </tr>\n",
       "    <tr>\n",
       "      <th>KNN Regressor</th>\n",
       "      <td>4.644764e-01</td>\n",
       "    </tr>\n",
       "    <tr>\n",
       "      <th>Ridge Regression digree 2</th>\n",
       "      <td>4.479323e-01</td>\n",
       "    </tr>\n",
       "    <tr>\n",
       "      <th>Lasso digree 3</th>\n",
       "      <td>3.513534e-01</td>\n",
       "    </tr>\n",
       "    <tr>\n",
       "      <th>Ridge Regression digree 3</th>\n",
       "      <td>2.217609e-01</td>\n",
       "    </tr>\n",
       "    <tr>\n",
       "      <th>Support Vector Machine</th>\n",
       "      <td>-1.722023e-02</td>\n",
       "    </tr>\n",
       "    <tr>\n",
       "      <th>Linear Regression digree 3</th>\n",
       "      <td>-6.470568e+16</td>\n",
       "    </tr>\n",
       "    <tr>\n",
       "      <th>Linear Regression digree 2</th>\n",
       "      <td>-5.822106e+19</td>\n",
       "    </tr>\n",
       "  </tbody>\n",
       "</table>\n",
       "</div>"
      ],
      "text/plain": [
       "                                           R2\n",
       "Lasso digree 2                   8.671666e-01\n",
       "Gradient Boosting Regresso(HPT)  8.615883e-01\n",
       "Gradient Boosting Regressor      8.435973e-01\n",
       "Decision Tree Regressor          8.288393e-01\n",
       "Random Forest Regressor          8.245216e-01\n",
       "Lasso                            7.983857e-01\n",
       "Linear Regression                7.947102e-01\n",
       "SGDRegressor                     7.924472e-01\n",
       "Ridge Regression                 7.899036e-01\n",
       "AdaBoost Regressor               7.402662e-01\n",
       "Neural Network Regression        7.097549e-01\n",
       "KNN Regressor                    4.644764e-01\n",
       "Ridge Regression digree 2        4.479323e-01\n",
       "Lasso digree 3                   3.513534e-01\n",
       "Ridge Regression digree 3        2.217609e-01\n",
       "Support Vector Machine          -1.722023e-02\n",
       "Linear Regression digree 3      -6.470568e+16\n",
       "Linear Regression digree 2      -5.822106e+19"
      ]
     },
     "execution_count": 110,
     "metadata": {},
     "output_type": "execute_result"
    }
   ],
   "source": [
    "score= pd.DataFrame(results,index=Name)\n",
    "score.columns=['R2']\n",
    "score.sort_values(by='R2',ascending=False)"
   ]
  },
  {
   "cell_type": "code",
   "execution_count": 122,
   "id": "614701d6",
   "metadata": {},
   "outputs": [
    {
     "data": {
      "text/plain": [
       "(136, 41)"
      ]
     },
     "execution_count": 122,
     "metadata": {},
     "output_type": "execute_result"
    }
   ],
   "source": [
    "df.shape"
   ]
  },
  {
   "cell_type": "code",
   "execution_count": 129,
   "id": "43892fd4",
   "metadata": {},
   "outputs": [
    {
     "data": {
      "text/html": [
       "<div>\n",
       "<style scoped>\n",
       "    .dataframe tbody tr th:only-of-type {\n",
       "        vertical-align: middle;\n",
       "    }\n",
       "\n",
       "    .dataframe tbody tr th {\n",
       "        vertical-align: top;\n",
       "    }\n",
       "\n",
       "    .dataframe thead th {\n",
       "        text-align: right;\n",
       "    }\n",
       "</style>\n",
       "<table border=\"1\" class=\"dataframe\">\n",
       "  <thead>\n",
       "    <tr style=\"text-align: right;\">\n",
       "      <th></th>\n",
       "      <th>0</th>\n",
       "    </tr>\n",
       "  </thead>\n",
       "  <tbody>\n",
       "    <tr>\n",
       "      <th>N(Ave)</th>\n",
       "      <td>0.881196</td>\n",
       "    </tr>\n",
       "    <tr>\n",
       "      <th>Safe Bearing Pressure(kN/m^2)</th>\n",
       "      <td>0.022591</td>\n",
       "    </tr>\n",
       "    <tr>\n",
       "      <th>Depth from ground level(m)</th>\n",
       "      <td>0.011005</td>\n",
       "    </tr>\n",
       "    <tr>\n",
       "      <th>Allowable Bearing Pressure(kN/m^2)</th>\n",
       "      <td>0.000000</td>\n",
       "    </tr>\n",
       "    <tr>\n",
       "      <th>Type of soil_  Black clay with moorum</th>\n",
       "      <td>0.000000</td>\n",
       "    </tr>\n",
       "  </tbody>\n",
       "</table>\n",
       "</div>"
      ],
      "text/plain": [
       "                                              0\n",
       "N(Ave)                                 0.881196\n",
       "Safe Bearing Pressure(kN/m^2)          0.022591\n",
       "Depth from ground level(m)             0.011005\n",
       "Allowable Bearing Pressure(kN/m^2)     0.000000\n",
       "Type of soil_  Black clay with moorum  0.000000"
      ]
     },
     "execution_count": 129,
     "metadata": {},
     "output_type": "execute_result"
    }
   ],
   "source": [
    "feature_imp = pd.DataFrame(M14.feature_importances_ ,index=df.columns[0:40])[:5]\n",
    "feature_imp.sort_values(by=0,ascending=False)"
   ]
  },
  {
   "cell_type": "code",
   "execution_count": 130,
   "id": "b1b442e4",
   "metadata": {},
   "outputs": [
    {
     "data": {
      "text/plain": [
       "<AxesSubplot:>"
      ]
     },
     "execution_count": 130,
     "metadata": {},
     "output_type": "execute_result"
    },
    {
     "data": {
      "image/png": "[encoded data removed]",
      "text/plain": [
       "<Figure size 432x288 with 1 Axes>"
      ]
     },
     "metadata": {
      "needs_background": "light"
     },
     "output_type": "display_data"
    }
   ],
   "source": [
    "feature_imp.sort_values(by=0,ascending=False).plot(kind='barh')"
   ]
  },
  {
   "cell_type": "code",
   "execution_count": 131,
   "id": "3bcb7a04",
   "metadata": {
    "scrolled": true
   },
   "outputs": [
    {
     "name": "stdout",
     "output_type": "stream",
     "text": [
      "[[-0.38029279  3.3856331   1.8026923  -0.09667365 -0.09667365 -0.09667365\n",
      "  -0.09667365 -0.16903085 -0.09667365 -0.09667365 -0.09667365 -0.13736056\n",
      "  -0.09667365 -0.24253563 -0.16903085 -0.09667365 -0.13736056  5.91607978\n",
      "  -0.13736056 -0.16903085 -0.41702883 -0.16903085 -0.38592249 -0.30151134\n",
      "  -0.13736056 -0.22032632 -0.09667365 -0.13736056 -0.13736056 -0.09667365\n",
      "  -0.09667365 -0.24253563 -0.24253563  0.         -0.09667365 -0.09667365\n",
      "  -0.09667365 -0.09667365  0.         -0.13736056]]\n",
      "78    1347.0\n",
      "Name: Safe Bearing Pressure(kN/m^2), dtype: float64\n"
     ]
    }
   ],
   "source": [
    "print(X_test[:1])\n",
    "print(y_test[:1])"
   ]
  },
  {
   "cell_type": "code",
   "execution_count": 133,
   "id": "6ef409b0",
   "metadata": {},
   "outputs": [
    {
     "data": {
      "text/plain": [
       "0.8671666298399755"
      ]
     },
     "execution_count": 133,
     "metadata": {},
     "output_type": "execute_result"
    }
   ],
   "source": [
    "accuracy=r2_score(y_test,P8)\n",
    "accuracy"
   ]
  },
  {
   "cell_type": "code",
   "execution_count": 134,
   "id": "6d7fc351",
   "metadata": {},
   "outputs": [
    {
     "name": "stdout",
     "output_type": "stream",
     "text": [
      "[1522.67773427] [1165.58653191]\n"
     ]
    }
   ],
   "source": [
    "predicted_strength=M8.predict(X_test[:1])\n",
    "\n",
    "strength_at_max_accuracy=(predicted_strength*(accuracy))\n",
    "strength_range= strength_at_max_accuracy-predicted_strength\n",
    "\n",
    "min_strength=predicted_strength+strength_range\n",
    "max_strength=predicted_strength-strength_range\n",
    "\n",
    "print(max_strength,min_strength)"
   ]
  }
 ],
 "metadata": {
  "kernelspec": {
   "display_name": "Python 3 (ipykernel)",
   "language": "python",
   "name": "python3"
  },
  "language_info": {
   "codemirror_mode": {
    "name": "ipython",
    "version": 3
   },
   "file_extension": ".py",
   "mimetype": "text/x-python",
   "name": "python",
   "nbconvert_exporter": "python",
   "pygments_lexer": "ipython3",
   "version": "3.9.7"
  }
 },
 "nbformat": 4,
 "nbformat_minor": 5
}
